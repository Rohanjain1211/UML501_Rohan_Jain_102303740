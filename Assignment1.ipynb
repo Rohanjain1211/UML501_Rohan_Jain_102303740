{
  "nbformat": 4,
  "nbformat_minor": 0,
  "metadata": {
    "colab": {
      "provenance": [],
      "authorship_tag": "ABX9TyPNXFXd9Dead4TwKK0ovYNz",
      "include_colab_link": true
    },
    "kernelspec": {
      "name": "python3",
      "display_name": "Python 3"
    },
    "language_info": {
      "name": "python"
    }
  },
  "cells": [
    {
      "cell_type": "markdown",
      "metadata": {
        "id": "view-in-github",
        "colab_type": "text"
      },
      "source": [
        "<a href=\"https://colab.research.google.com/github/Rohanjain1211/UML501_Rohan_Jain_102303740/blob/main/Assignment1.ipynb\" target=\"_parent\"><img src=\"https://colab.research.google.com/assets/colab-badge.svg\" alt=\"Open In Colab\"/></a>"
      ]
    },
    {
      "cell_type": "markdown",
      "source": [
        "Q1.A)\n"
      ],
      "metadata": {
        "id": "8ga3qVdL2yLz"
      }
    },
    {
      "cell_type": "code",
      "source": [
        "# A)\n",
        "import numpy as np\n",
        "\n",
        "arr = np.array([1, 2, 8, 9, 4, 5])\n",
        "revarr =np.flip(arr)\n",
        "print(revarr)"
      ],
      "metadata": {
        "colab": {
          "base_uri": "https://localhost:8080/"
        },
        "id": "9n-2vsUJBcWi",
        "outputId": "d9bbac50-5c1c-4c57-ef31-b8c8afa3b868"
      },
      "execution_count": null,
      "outputs": [
        {
          "output_type": "stream",
          "name": "stdout",
          "text": [
            "[5 4 9 8 2 1]\n"
          ]
        }
      ]
    },
    {
      "cell_type": "markdown",
      "source": [
        "1b\n"
      ],
      "metadata": {
        "id": "BYikgqMHCJNj"
      }
    },
    {
      "cell_type": "code",
      "source": [
        "# Use arr.flatten\n",
        "arr1=np.array([[1, 2, 3], [2, 4, 5], [1, 2, 3]])\n",
        "flatten_arr=arr1.flatten()\n",
        "print(flatten_arr)\n"
      ],
      "metadata": {
        "colab": {
          "base_uri": "https://localhost:8080/"
        },
        "id": "0fsVpkTqCTv6",
        "outputId": "00173bae-c8c0-4e97-ffb5-8a1e285224d8"
      },
      "execution_count": null,
      "outputs": [
        {
          "output_type": "stream",
          "name": "stdout",
          "text": [
            "[1 2 3 2 4 5 1 2 3]\n"
          ]
        }
      ]
    },
    {
      "cell_type": "markdown",
      "source": [
        "1c)\n"
      ],
      "metadata": {
        "id": "XitkEFvODAKu"
      }
    },
    {
      "cell_type": "code",
      "source": [
        "arr1 = np.array([[1, 2], [3, 4]])\n",
        "arr2 = np.array([[1, 2], [3, 4]])\n",
        "np.array_equal(arr1,arr2)"
      ],
      "metadata": {
        "colab": {
          "base_uri": "https://localhost:8080/"
        },
        "id": "juJ706cEC-Gr",
        "outputId": "785c38cd-dc9d-4d89-df20-7976d40032a7"
      },
      "execution_count": null,
      "outputs": [
        {
          "output_type": "execute_result",
          "data": {
            "text/plain": [
              "True"
            ]
          },
          "metadata": {},
          "execution_count": 3
        }
      ]
    },
    {
      "cell_type": "markdown",
      "source": [
        "1d)\n"
      ],
      "metadata": {
        "id": "je9ZFerUDcnu"
      }
    },
    {
      "cell_type": "code",
      "metadata": {
        "colab": {
          "base_uri": "https://localhost:8080/"
        },
        "id": "7be8def9",
        "outputId": "68d14ba9-c17f-4e20-9015-06afb47d101f"
      },
      "source": [
        "import numpy as np\n",
        "\n",
        "#1)\n",
        "x = np.array([1, 2, 3, 4, 5, 1, 2, 1, 1, 1])\n",
        "most_frequent_value = np.bincount(x).argmax()\n",
        "indices = np.where(x == most_frequent_value)[0]\n",
        "\n",
        "print(f\"The most frequent value is: {most_frequent_value}\")\n",
        "print(f\"The indices are: {indices}\")\n",
        "\n",
        "#2\n",
        "\n",
        "y = np.array([1, 1, 1, 2, 3, 4, 2, 4, 3, 3])\n",
        "most_frequent = np.bincount(y).argmax()\n",
        "indice = np.where(y == most_frequent)[0]\n",
        "\n",
        "print(f\"The most frequent value is: {most_frequent}\")\n",
        "print(f\"The indices are: {indice}\")\n"
      ],
      "execution_count": null,
      "outputs": [
        {
          "output_type": "stream",
          "name": "stdout",
          "text": [
            "The most frequent value is: 1\n",
            "The indices are: [0 5 7 8 9]\n",
            "The most frequent value is: 1\n",
            "The indices are: [0 1 2]\n"
          ]
        }
      ]
    },
    {
      "cell_type": "markdown",
      "source": [
        "1.e)"
      ],
      "metadata": {
        "id": "vC6_ANHh15B4"
      }
    },
    {
      "cell_type": "code",
      "source": [
        "#1)\n",
        "gfg = np.matrix('[4, 1, 9; 12, 3, 1; 4, 5, 6]')\n",
        "totalsum=np.sum(gfg)\n",
        "print(\"Total sum:\",totalsum)\n",
        "#2)\n",
        "\n",
        "rowsum=gfg.sum(axis=0)\n",
        "print(\"Row sum:\",rowsum)\n",
        "#3)\n",
        "colsum=gfg.sum(axis=1)\n",
        "print(\"Column sum:\",colsum)"
      ],
      "metadata": {
        "colab": {
          "base_uri": "https://localhost:8080/"
        },
        "id": "aZKYda5u19Sg",
        "outputId": "a43d7136-8609-43e0-a8af-d3a0f171b5a9"
      },
      "execution_count": null,
      "outputs": [
        {
          "output_type": "stream",
          "name": "stdout",
          "text": [
            "Total sum: 45\n",
            "Row sum: [[20  9 16]]\n",
            "Column sum: [[14]\n",
            " [16]\n",
            " [15]]\n"
          ]
        }
      ]
    },
    {
      "cell_type": "markdown",
      "source": [
        "1.f)"
      ],
      "metadata": {
        "id": "O8kLl6k629iy"
      }
    },
    {
      "cell_type": "code",
      "source": [
        "#1\n",
        "n_array = np.array([[55, 25, 15],[30, 44, 2],[11, 45, 77]])\n",
        "\n",
        "diagonal_sum=np.trace(n_array)\n",
        "print(\"Diagonal sum:\",diagonal_sum)\n",
        "\n",
        "#2\n",
        "eigen_val=np.linalg.eigvals(n_array)\n",
        "print(\"Eigen values:\",eigen_val)\n",
        "\n",
        "#3\n",
        "\n",
        "eigen_vector=np.linalg.eig(n_array)\n",
        "print(\"Eigen vectors:\",eigen_vector)\n",
        "\n",
        "#4\n",
        "inverse_arr=np.linalg.inv(n_array)\n",
        "print(\"Inverse array:\",inverse_arr)\n",
        "\n",
        "#5\n",
        "determinant_arr=np.linalg.det(n_array)\n",
        "print(\"Determinant:\", determinant_arr)"
      ],
      "metadata": {
        "colab": {
          "base_uri": "https://localhost:8080/"
        },
        "id": "8YCf1Wmt29RY",
        "outputId": "9b73c84a-f278-4eab-da37-0cce6a92519d"
      },
      "execution_count": null,
      "outputs": [
        {
          "output_type": "stream",
          "name": "stdout",
          "text": [
            "Diagonal sum: 176\n",
            "Eigen values: [98.16835147 28.097044   49.73460452]\n",
            "Eigen vectors: EigResult(eigenvalues=array([98.16835147, 28.097044  , 49.73460452]), eigenvectors=array([[ 0.4574917 ,  0.34637121, -0.15017693],\n",
            "       [ 0.28447814, -0.72784061, -0.4852124 ],\n",
            "       [ 0.84248058,  0.59184038,  0.8614034 ]]))\n",
            "Inverse array: [[ 0.02404141 -0.00911212 -0.00444671]\n",
            " [-0.01667882  0.02966905  0.0024785 ]\n",
            " [ 0.00631287 -0.01603732  0.01217379]]\n",
            "Determinant: 137180.0000000001\n"
          ]
        }
      ]
    },
    {
      "cell_type": "markdown",
      "source": [
        "1g)\n"
      ],
      "metadata": {
        "id": "m8A_DVKm6THd"
      }
    },
    {
      "cell_type": "code",
      "source": [
        "import numpy as np\n",
        "\n",
        "# 1\n",
        "print(\"# Part i\")\n",
        "\n",
        "p1 = np.array([[1, 2], [2, 3]])\n",
        "q1 = np.array([[4, 5], [6, 7]])\n",
        "\n",
        "# Matrix multiplication\n",
        "product1 = np.dot(p1, q1)\n",
        "print(\"Matrix multiplication (p1 @ q1):\\n\", product1)\n",
        "\n",
        "# Covariance between flattened versions\n",
        "cov1 = np.cov(p1.flatten(), q1.flatten())\n",
        "print(\"Covariance matrix:\\n\", cov1)\n",
        "\n",
        "\n",
        "# 2\n",
        "print(\"\\n# Part ii\")\n",
        "\n",
        "p2 = np.array([[1, 2], [2, 3], [4, 5]])\n",
        "q2 = np.array([[4, 5, 1], [6, 7, 2]])\n",
        "\n",
        "# Matrix multiplication\n",
        "product2 = np.dot(p2, q2)\n",
        "print(\"Matrix multiplication (p2 @ q2):\\n\", product2)\n",
        "\n",
        "# Covariance between flattened versions\n",
        "cov2 = np.cov(p2.flatten(), q2.flatten())\n",
        "print(\"Covariance matrix:\\n\",cov2)"
      ],
      "metadata": {
        "colab": {
          "base_uri": "https://localhost:8080/"
        },
        "id": "UhkLy8tZ6jT1",
        "outputId": "9b24a829-3a12-486e-c174-a4a98e63849e"
      },
      "execution_count": null,
      "outputs": [
        {
          "output_type": "stream",
          "name": "stdout",
          "text": [
            "# Part i\n",
            "Matrix multiplication (p1 @ q1):\n",
            " [[16 19]\n",
            " [26 31]]\n",
            "Covariance matrix:\n",
            " [[0.66666667 1.        ]\n",
            " [1.         1.66666667]]\n",
            "\n",
            "# Part ii\n",
            "Matrix multiplication (p2 @ q2):\n",
            " [[16 19  5]\n",
            " [26 31  8]\n",
            " [46 55 14]]\n",
            "Covariance matrix:\n",
            " [[2.16666667 0.23333333]\n",
            " [0.23333333 5.36666667]]\n"
          ]
        }
      ]
    },
    {
      "cell_type": "markdown",
      "source": [
        "1 h)\n"
      ],
      "metadata": {
        "id": "wP4xw43g-Bfx"
      }
    },
    {
      "cell_type": "code",
      "source": [
        "import numpy as np\n",
        "from itertools import product\n",
        "\n",
        "x = np.array([[2, 3, 4], [3, 2, 9]])\n",
        "y = np.array([[1, 5, 0], [5, 10, 3]])\n",
        "\n",
        "# Inner Product\n",
        "inner_product = np.inner(x, y)\n",
        "print(\"Inner Product:\\n\", inner_product)\n",
        "\n",
        "# Outer Product\n",
        "outer_product = np.outer(x, y)\n",
        "print(\"\\nOuter Product:\\n\", outer_product)\n",
        "\n",
        "\n",
        "cartesian_product = np.array([np.concatenate((xr, yr)) for xr, yr in product(x, y)])\n",
        "print(\"\\nCartesian Product (Row combinations):\\n\", cartesian_product)"
      ],
      "metadata": {
        "colab": {
          "base_uri": "https://localhost:8080/"
        },
        "id": "ycWgw_F2-IF5",
        "outputId": "4ef9120d-8ed7-4a67-c951-742605c9d9a4"
      },
      "execution_count": null,
      "outputs": [
        {
          "output_type": "stream",
          "name": "stdout",
          "text": [
            "Inner Product:\n",
            " [[17 52]\n",
            " [13 62]]\n",
            "\n",
            "Outer Product:\n",
            " [[ 2 10  0 10 20  6]\n",
            " [ 3 15  0 15 30  9]\n",
            " [ 4 20  0 20 40 12]\n",
            " [ 3 15  0 15 30  9]\n",
            " [ 2 10  0 10 20  6]\n",
            " [ 9 45  0 45 90 27]]\n",
            "\n",
            "Cartesian Product (Row combinations):\n",
            " [[ 2  3  4  1  5  0]\n",
            " [ 2  3  4  5 10  3]\n",
            " [ 3  2  9  1  5  0]\n",
            " [ 3  2  9  5 10  3]]\n"
          ]
        }
      ]
    },
    {
      "cell_type": "markdown",
      "source": [
        "2a)\n"
      ],
      "metadata": {
        "id": "zOwmYZZS_uxL"
      }
    },
    {
      "cell_type": "code",
      "source": [
        "\n",
        "#1)\n",
        "array = np.array([[1, -2, 3],[-4, 5, -6]])\n",
        "\n",
        "mod_val=np.abs(array)\n",
        "print(mod_val)\n",
        "\n",
        "#2\n",
        "flat_percentiles = np.percentile(array, [25, 50, 75])\n",
        "print(\"\\nPercentiles (Flattened array):\", flat_percentiles)\n",
        "\n",
        "# Column-wise\n",
        "col_percentiles = np.percentile(array, [25, 50, 75], axis=0)\n",
        "print(\"\\nColumn-wise percentiles:\\n\", col_percentiles)\n",
        "\n",
        "# Row-wise\n",
        "row_percentiles = np.percentile(array, [25, 50, 75], axis=1)\n",
        "print(\"\\nRow-wise percentiles:\\n\", row_percentiles)\n",
        "\n",
        "#3\n",
        "\n",
        "# Flattened\n",
        "print(\"Flattened:\")\n",
        "print(\"Mean:\", np.mean(array))\n",
        "print(\"Median:\", np.median(array))\n",
        "print(\"Standard Deviation:\", np.std(array))\n",
        "\n",
        "# Column-wise\n",
        "print(\"\\nColumn-wise:\")\n",
        "print(\"Mean:\", np.mean(array, axis=0))\n",
        "print(\"Median:\", np.median(array, axis=0))\n",
        "print(\"Standard Deviation:\", np.std(array, axis=0))\n",
        "\n",
        "# Row-wise\n",
        "print(\"\\nRow-wise:\")\n",
        "print(\"Mean:\", np.mean(array, axis=1))\n",
        "print(\"Median:\", np.median(array, axis=1))\n",
        "print(\"Standard Deviation:\", np.std(array, axis=1))"
      ],
      "metadata": {
        "colab": {
          "base_uri": "https://localhost:8080/"
        },
        "id": "dHj3qoQxABw_",
        "outputId": "912b968e-2ff3-4797-c714-1f51f12ef718"
      },
      "execution_count": null,
      "outputs": [
        {
          "output_type": "stream",
          "name": "stdout",
          "text": [
            "[[1 2 3]\n",
            " [4 5 6]]\n",
            "\n",
            "Percentiles (Flattened array): [-3.5 -0.5  2.5]\n",
            "\n",
            "Column-wise percentiles:\n",
            " [[-2.75 -0.25 -3.75]\n",
            " [-1.5   1.5  -1.5 ]\n",
            " [-0.25  3.25  0.75]]\n",
            "\n",
            "Row-wise percentiles:\n",
            " [[-0.5 -5. ]\n",
            " [ 1.  -4. ]\n",
            " [ 2.   0.5]]\n",
            "Flattened:\n",
            "Mean: -0.5\n",
            "Median: -0.5\n",
            "Standard Deviation: 3.8622100754188224\n",
            "\n",
            "Column-wise:\n",
            "Mean: [-1.5  1.5 -1.5]\n",
            "Median: [-1.5  1.5 -1.5]\n",
            "Standard Deviation: [2.5 3.5 4.5]\n",
            "\n",
            "Row-wise:\n",
            "Mean: [ 0.66666667 -1.66666667]\n",
            "Median: [ 1. -4.]\n",
            "Standard Deviation: [2.05480467 4.78423336]\n"
          ]
        }
      ]
    },
    {
      "cell_type": "markdown",
      "source": [
        "2b)\n"
      ],
      "metadata": {
        "id": "RBI9w3x0Dn-O"
      }
    },
    {
      "cell_type": "code",
      "source": [
        "a = np.array([-1.8, -1.6, -0.5, 0.5,1.6, 1.8, 3.0])\n",
        "\n",
        "floor_vals = np.floor(a)\n",
        "ceil_vals = np.ceil(a)\n",
        "trunc_vals = np.trunc(a)\n",
        "round_vals = np.round(a)\n",
        "\n",
        "print(\"Original:   \", a)\n",
        "print(\"Floor:      \", floor_vals)\n",
        "print(\"Ceiling:    \", ceil_vals)\n",
        "print(\"Truncated:  \", trunc_vals)\n",
        "print(\"Rounded:    \", round_vals)"
      ],
      "metadata": {
        "colab": {
          "base_uri": "https://localhost:8080/"
        },
        "id": "BZo4X1NzDqO_",
        "outputId": "8cb46d4e-df76-48b0-8054-cdea2b1c578c"
      },
      "execution_count": null,
      "outputs": [
        {
          "output_type": "stream",
          "name": "stdout",
          "text": [
            "Original:    [-1.8 -1.6 -0.5  0.5  1.6  1.8  3. ]\n",
            "Floor:       [-2. -2. -1.  0.  1.  1.  3.]\n",
            "Ceiling:     [-1. -1. -0.  1.  2.  2.  3.]\n",
            "Truncated:   [-1. -1. -0.  0.  1.  1.  3.]\n",
            "Rounded:     [-2. -2. -0.  0.  2.  2.  3.]\n"
          ]
        }
      ]
    },
    {
      "cell_type": "markdown",
      "source": [
        "3a)"
      ],
      "metadata": {
        "id": "L01SVoyIFMWp"
      }
    },
    {
      "cell_type": "code",
      "source": [
        "array = np.array([10, 52, 62, 16, 16, 54, 453])\n",
        "\n",
        "sorted_array = np.sort(array)\n",
        "print(\"Sorted array:\", sorted_array)\n",
        "\n",
        "# ii\n",
        "sorted_indices = np.argsort(array)\n",
        "print(\"Indices of sorted array:\", sorted_indices)\n",
        "\n",
        "# iii.\n",
        "smallest_4 =sorted_array[:4]\n",
        "print(\"4 smallest elements:\", smallest_4)\n",
        "\n",
        "# iv.\n",
        "largest_5 = np.sort(array)[-5:][::-1]\n",
        "print(\"5 largest elements:\", largest_5)"
      ],
      "metadata": {
        "colab": {
          "base_uri": "https://localhost:8080/"
        },
        "id": "hVQ1uyjAFak_",
        "outputId": "afe4125e-cae8-4762-9774-cba3c57d8909"
      },
      "execution_count": null,
      "outputs": [
        {
          "output_type": "stream",
          "name": "stdout",
          "text": [
            "Sorted array: [ 10  16  16  52  54  62 453]\n",
            "Indices of sorted array: [0 3 4 1 5 2 6]\n",
            "4 smallest elements: [10 16 16 52]\n",
            "5 largest elements: [453  62  54  52  16]\n"
          ]
        }
      ]
    },
    {
      "cell_type": "markdown",
      "source": [
        "3B)\n"
      ],
      "metadata": {
        "id": "_iBARykKGUtq"
      }
    },
    {
      "cell_type": "code",
      "source": [
        "array = np.array([1.0, 1.2, 2.2, 2.0, 3.0, 2.0])\n",
        "\n",
        "#\n",
        "int_ele = array[array % 1 == 0]\n",
        "print(\"Integer elements:\", int_ele)\n",
        "\n",
        "#\n",
        "float_ele = array[array % 1 != 0]\n",
        "print(\"Float elements:\", float_ele)\n"
      ],
      "metadata": {
        "colab": {
          "base_uri": "https://localhost:8080/"
        },
        "id": "LZlbUvPJGXrd",
        "outputId": "91ca4808-3409-46ac-a81d-3eccd9d68a4b"
      },
      "execution_count": null,
      "outputs": [
        {
          "output_type": "stream",
          "name": "stdout",
          "text": [
            "Integer elements: [1. 2. 3. 2.]\n",
            "Float elements: [1.2 2.2]\n"
          ]
        }
      ]
    },
    {
      "cell_type": "markdown",
      "source": [
        "4a)"
      ],
      "metadata": {
        "id": "iW0rsGVzGpCZ"
      }
    },
    {
      "cell_type": "code",
      "source": [
        "from google.colab import files\n",
        "uploaded = files.upload()\n"
      ],
      "metadata": {
        "colab": {
          "base_uri": "https://localhost:8080/",
          "height": 73
        },
        "id": "kxEhbUuTWeLE",
        "outputId": "cc6f7f02-e4a4-4235-d31c-b6cb42c1e6ea"
      },
      "execution_count": 77,
      "outputs": [
        {
          "output_type": "display_data",
          "data": {
            "text/plain": [
              "<IPython.core.display.HTML object>"
            ],
            "text/html": [
              "\n",
              "     <input type=\"file\" id=\"files-c7c03e93-7c18-4db0-929d-def6fffd06dd\" name=\"files[]\" multiple disabled\n",
              "        style=\"border:none\" />\n",
              "     <output id=\"result-c7c03e93-7c18-4db0-929d-def6fffd06dd\">\n",
              "      Upload widget is only available when the cell has been executed in the\n",
              "      current browser session. Please rerun this cell to enable.\n",
              "      </output>\n",
              "      <script>// Copyright 2017 Google LLC\n",
              "//\n",
              "// Licensed under the Apache License, Version 2.0 (the \"License\");\n",
              "// you may not use this file except in compliance with the License.\n",
              "// You may obtain a copy of the License at\n",
              "//\n",
              "//      http://www.apache.org/licenses/LICENSE-2.0\n",
              "//\n",
              "// Unless required by applicable law or agreed to in writing, software\n",
              "// distributed under the License is distributed on an \"AS IS\" BASIS,\n",
              "// WITHOUT WARRANTIES OR CONDITIONS OF ANY KIND, either express or implied.\n",
              "// See the License for the specific language governing permissions and\n",
              "// limitations under the License.\n",
              "\n",
              "/**\n",
              " * @fileoverview Helpers for google.colab Python module.\n",
              " */\n",
              "(function(scope) {\n",
              "function span(text, styleAttributes = {}) {\n",
              "  const element = document.createElement('span');\n",
              "  element.textContent = text;\n",
              "  for (const key of Object.keys(styleAttributes)) {\n",
              "    element.style[key] = styleAttributes[key];\n",
              "  }\n",
              "  return element;\n",
              "}\n",
              "\n",
              "// Max number of bytes which will be uploaded at a time.\n",
              "const MAX_PAYLOAD_SIZE = 100 * 1024;\n",
              "\n",
              "function _uploadFiles(inputId, outputId) {\n",
              "  const steps = uploadFilesStep(inputId, outputId);\n",
              "  const outputElement = document.getElementById(outputId);\n",
              "  // Cache steps on the outputElement to make it available for the next call\n",
              "  // to uploadFilesContinue from Python.\n",
              "  outputElement.steps = steps;\n",
              "\n",
              "  return _uploadFilesContinue(outputId);\n",
              "}\n",
              "\n",
              "// This is roughly an async generator (not supported in the browser yet),\n",
              "// where there are multiple asynchronous steps and the Python side is going\n",
              "// to poll for completion of each step.\n",
              "// This uses a Promise to block the python side on completion of each step,\n",
              "// then passes the result of the previous step as the input to the next step.\n",
              "function _uploadFilesContinue(outputId) {\n",
              "  const outputElement = document.getElementById(outputId);\n",
              "  const steps = outputElement.steps;\n",
              "\n",
              "  const next = steps.next(outputElement.lastPromiseValue);\n",
              "  return Promise.resolve(next.value.promise).then((value) => {\n",
              "    // Cache the last promise value to make it available to the next\n",
              "    // step of the generator.\n",
              "    outputElement.lastPromiseValue = value;\n",
              "    return next.value.response;\n",
              "  });\n",
              "}\n",
              "\n",
              "/**\n",
              " * Generator function which is called between each async step of the upload\n",
              " * process.\n",
              " * @param {string} inputId Element ID of the input file picker element.\n",
              " * @param {string} outputId Element ID of the output display.\n",
              " * @return {!Iterable<!Object>} Iterable of next steps.\n",
              " */\n",
              "function* uploadFilesStep(inputId, outputId) {\n",
              "  const inputElement = document.getElementById(inputId);\n",
              "  inputElement.disabled = false;\n",
              "\n",
              "  const outputElement = document.getElementById(outputId);\n",
              "  outputElement.innerHTML = '';\n",
              "\n",
              "  const pickedPromise = new Promise((resolve) => {\n",
              "    inputElement.addEventListener('change', (e) => {\n",
              "      resolve(e.target.files);\n",
              "    });\n",
              "  });\n",
              "\n",
              "  const cancel = document.createElement('button');\n",
              "  inputElement.parentElement.appendChild(cancel);\n",
              "  cancel.textContent = 'Cancel upload';\n",
              "  const cancelPromise = new Promise((resolve) => {\n",
              "    cancel.onclick = () => {\n",
              "      resolve(null);\n",
              "    };\n",
              "  });\n",
              "\n",
              "  // Wait for the user to pick the files.\n",
              "  const files = yield {\n",
              "    promise: Promise.race([pickedPromise, cancelPromise]),\n",
              "    response: {\n",
              "      action: 'starting',\n",
              "    }\n",
              "  };\n",
              "\n",
              "  cancel.remove();\n",
              "\n",
              "  // Disable the input element since further picks are not allowed.\n",
              "  inputElement.disabled = true;\n",
              "\n",
              "  if (!files) {\n",
              "    return {\n",
              "      response: {\n",
              "        action: 'complete',\n",
              "      }\n",
              "    };\n",
              "  }\n",
              "\n",
              "  for (const file of files) {\n",
              "    const li = document.createElement('li');\n",
              "    li.append(span(file.name, {fontWeight: 'bold'}));\n",
              "    li.append(span(\n",
              "        `(${file.type || 'n/a'}) - ${file.size} bytes, ` +\n",
              "        `last modified: ${\n",
              "            file.lastModifiedDate ? file.lastModifiedDate.toLocaleDateString() :\n",
              "                                    'n/a'} - `));\n",
              "    const percent = span('0% done');\n",
              "    li.appendChild(percent);\n",
              "\n",
              "    outputElement.appendChild(li);\n",
              "\n",
              "    const fileDataPromise = new Promise((resolve) => {\n",
              "      const reader = new FileReader();\n",
              "      reader.onload = (e) => {\n",
              "        resolve(e.target.result);\n",
              "      };\n",
              "      reader.readAsArrayBuffer(file);\n",
              "    });\n",
              "    // Wait for the data to be ready.\n",
              "    let fileData = yield {\n",
              "      promise: fileDataPromise,\n",
              "      response: {\n",
              "        action: 'continue',\n",
              "      }\n",
              "    };\n",
              "\n",
              "    // Use a chunked sending to avoid message size limits. See b/62115660.\n",
              "    let position = 0;\n",
              "    do {\n",
              "      const length = Math.min(fileData.byteLength - position, MAX_PAYLOAD_SIZE);\n",
              "      const chunk = new Uint8Array(fileData, position, length);\n",
              "      position += length;\n",
              "\n",
              "      const base64 = btoa(String.fromCharCode.apply(null, chunk));\n",
              "      yield {\n",
              "        response: {\n",
              "          action: 'append',\n",
              "          file: file.name,\n",
              "          data: base64,\n",
              "        },\n",
              "      };\n",
              "\n",
              "      let percentDone = fileData.byteLength === 0 ?\n",
              "          100 :\n",
              "          Math.round((position / fileData.byteLength) * 100);\n",
              "      percent.textContent = `${percentDone}% done`;\n",
              "\n",
              "    } while (position < fileData.byteLength);\n",
              "  }\n",
              "\n",
              "  // All done.\n",
              "  yield {\n",
              "    response: {\n",
              "      action: 'complete',\n",
              "    }\n",
              "  };\n",
              "}\n",
              "\n",
              "scope.google = scope.google || {};\n",
              "scope.google.colab = scope.google.colab || {};\n",
              "scope.google.colab._files = {\n",
              "  _uploadFiles,\n",
              "  _uploadFilesContinue,\n",
              "};\n",
              "})(self);\n",
              "</script> "
            ]
          },
          "metadata": {}
        },
        {
          "output_type": "stream",
          "name": "stdout",
          "text": [
            "Saving download.jpeg to download.jpeg\n"
          ]
        }
      ]
    },
    {
      "cell_type": "code",
      "source": [
        "from PIL import Image, ImageFile\n",
        "import numpy as np\n",
        "\n",
        "ImageFile.LOAD_TRUNCATED_IMAGES = True\n",
        "\n",
        "def img_to_array(path):\n",
        "    try:\n",
        "        img = Image.open(path)\n",
        "        img_arr = np.array(img)\n",
        "\n",
        "        if img_arr.ndim == 2:\n",
        "            print(\"Grayscale image detected\")\n",
        "            np.savetxt(\"image_grayscale.txt\", img_arr, fmt='%d')\n",
        "            return \"grayscale\"\n",
        "\n",
        "        elif img_arr.ndim == 3:\n",
        "            print(\"RGB image detected\")\n",
        "            flat = img_arr.reshape(-1, img_arr.shape[2])\n",
        "            np.savetxt(\"image_rgb.txt\", flat, fmt='%d')\n",
        "            return \"rgb\"\n",
        "\n",
        "        else:\n",
        "            print(\"Image format not recognized\")\n",
        "            return None\n",
        "\n",
        "    except Exception as e:\n",
        "        print(\"Error:\", e)\n",
        "        return None\n",
        "\n",
        "image_type = img_to_array(\"download.jpeg\")\n",
        "\n",
        "# Load the saved file based on type\n",
        "if image_type == \"grayscale\":\n",
        "    gray = np.loadtxt(\"image_grayscale.txt\", dtype=int)\n",
        "    print(\"Loaded grayscale shape:\", gray.shape)\n",
        "    print(gray[:5])  # Print only a part\n",
        "\n",
        "elif image_type == \"rgb\":\n",
        "    rgb = np.loadtxt(\"image_rgb.txt\", dtype=int)\n",
        "    print(\"Loaded RGB shape:\", rgb.shape)\n",
        "    print(rgb[:5])  # Print only a part\n",
        "\n",
        "else:\n",
        "    print(\"Could not load the saved image data.\")"
      ],
      "metadata": {
        "colab": {
          "base_uri": "https://localhost:8080/"
        },
        "id": "JLa-uLHJWaVw",
        "outputId": "d58b66b0-7fcc-4d12-e0a0-ae04eb7676e0"
      },
      "execution_count": 78,
      "outputs": [
        {
          "output_type": "stream",
          "name": "stdout",
          "text": [
            "RGB image detected\n",
            "Loaded RGB shape: (1091840, 3)\n",
            "[[255 255 255]\n",
            " [255 255 255]\n",
            " [255 255 255]\n",
            " [255 255 255]\n",
            " [255 255 255]]\n"
          ]
        }
      ]
    }
  ]
}